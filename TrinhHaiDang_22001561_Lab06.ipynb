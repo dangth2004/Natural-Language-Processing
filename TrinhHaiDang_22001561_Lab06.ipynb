{
 "cells": [
  {
   "cell_type": "code",
   "id": "initial_id",
   "metadata": {
    "collapsed": true,
    "ExecuteTime": {
     "end_time": "2025-10-30T13:58:30.006130Z",
     "start_time": "2025-10-30T13:58:28.755797Z"
    }
   },
   "source": [
    "import numpy as np\n",
    "import torch\n",
    "import torch.nn as nn"
   ],
   "outputs": [],
   "execution_count": 1
  },
  {
   "metadata": {},
   "cell_type": "markdown",
   "source": "# Khởi tạo Tensor",
   "id": "14786a816f25d239"
  },
  {
   "metadata": {
    "ExecuteTime": {
     "end_time": "2025-10-30T13:58:30.014539Z",
     "start_time": "2025-10-30T13:58:30.010572Z"
    }
   },
   "cell_type": "code",
   "source": [
    "data = [[1, 2], [3, 4]]\n",
    "x_data = torch.tensor(data)\n",
    "print(x_data)"
   ],
   "id": "1f4dd80378e7658b",
   "outputs": [
    {
     "name": "stdout",
     "output_type": "stream",
     "text": [
      "tensor([[1, 2],\n",
      "        [3, 4]])\n"
     ]
    }
   ],
   "execution_count": 2
  },
  {
   "metadata": {
    "ExecuteTime": {
     "end_time": "2025-10-30T13:58:30.061234Z",
     "start_time": "2025-10-30T13:58:30.058525Z"
    }
   },
   "cell_type": "code",
   "source": [
    "np_array = np.array(data)\n",
    "x_np = torch.from_numpy(np_array)\n",
    "print(x_np)"
   ],
   "id": "de8a49c563ec306e",
   "outputs": [
    {
     "name": "stdout",
     "output_type": "stream",
     "text": [
      "tensor([[1, 2],\n",
      "        [3, 4]])\n"
     ]
    }
   ],
   "execution_count": 3
  },
  {
   "metadata": {
    "ExecuteTime": {
     "end_time": "2025-10-30T13:58:30.109451Z",
     "start_time": "2025-10-30T13:58:30.105105Z"
    }
   },
   "cell_type": "code",
   "source": [
    "x_ones = torch.ones_like(x_data)  # retains the properties of x_data\n",
    "print(f\"Ones Tensor: \\n {x_ones}\")\n",
    "\n",
    "x_rand = torch.rand_like(x_data, dtype=torch.float)  # overrides the datatype of x_data\n",
    "print(f\"\\nRandom Tensor: \\n {x_rand}\")"
   ],
   "id": "de2094dad95bceb7",
   "outputs": [
    {
     "name": "stdout",
     "output_type": "stream",
     "text": [
      "Ones Tensor: \n",
      " tensor([[1, 1],\n",
      "        [1, 1]])\n",
      "\n",
      "Random Tensor: \n",
      " tensor([[0.8031, 0.0996],\n",
      "        [0.6547, 0.4113]])\n"
     ]
    }
   ],
   "execution_count": 4
  },
  {
   "metadata": {
    "ExecuteTime": {
     "end_time": "2025-10-30T13:58:30.156938Z",
     "start_time": "2025-10-30T13:58:30.152764Z"
    }
   },
   "cell_type": "code",
   "source": [
    "shape = (2, 3,)\n",
    "rand_tensor = torch.rand(shape)\n",
    "ones_tensor = torch.ones(shape)\n",
    "zeros_tensor = torch.zeros(shape)\n",
    "\n",
    "print(f\"Random Tensor: \\n {rand_tensor} \\n\")\n",
    "print(f\"Ones Tensor: \\n {ones_tensor} \\n\")\n",
    "print(f\"Zeros Tensor: \\n {zeros_tensor}\")"
   ],
   "id": "230e9b7b106cf500",
   "outputs": [
    {
     "name": "stdout",
     "output_type": "stream",
     "text": [
      "Random Tensor: \n",
      " tensor([[0.4192, 0.2036, 0.0439],\n",
      "        [0.5843, 0.7676, 0.1499]]) \n",
      "\n",
      "Ones Tensor: \n",
      " tensor([[1., 1., 1.],\n",
      "        [1., 1., 1.]]) \n",
      "\n",
      "Zeros Tensor: \n",
      " tensor([[0., 0., 0.],\n",
      "        [0., 0., 0.]])\n"
     ]
    }
   ],
   "execution_count": 5
  },
  {
   "metadata": {
    "ExecuteTime": {
     "end_time": "2025-10-30T13:58:30.203944Z",
     "start_time": "2025-10-30T13:58:30.200701Z"
    }
   },
   "cell_type": "code",
   "source": [
    "tensor = torch.rand(3, 4)\n",
    "\n",
    "print(tensor)\n",
    "print(f\"Shape of tensor: {tensor.shape}\")\n",
    "print(f\"Datatype of tensor: {tensor.dtype}\")\n",
    "print(f\"Device tensor is stored on: {tensor.device}\")"
   ],
   "id": "493b57421f75e034",
   "outputs": [
    {
     "name": "stdout",
     "output_type": "stream",
     "text": [
      "tensor([[0.0284, 0.8052, 0.6165, 0.8051],\n",
      "        [0.9634, 0.2861, 0.8676, 0.2983],\n",
      "        [0.7467, 0.3407, 0.7081, 0.6181]])\n",
      "Shape of tensor: torch.Size([3, 4])\n",
      "Datatype of tensor: torch.float32\n",
      "Device tensor is stored on: cpu\n"
     ]
    }
   ],
   "execution_count": 6
  },
  {
   "metadata": {},
   "cell_type": "markdown",
   "source": "# Các phép toán trên Tensor",
   "id": "673e9b10d4c29256"
  },
  {
   "metadata": {
    "ExecuteTime": {
     "end_time": "2025-10-30T13:58:30.251620Z",
     "start_time": "2025-10-30T13:58:30.248379Z"
    }
   },
   "cell_type": "code",
   "source": [
    "print(x_data)\n",
    "print(x_data.dtype)\n",
    "print(x_data.shape)\n",
    "print(x_data.device)"
   ],
   "id": "5c13211c1ecebfb5",
   "outputs": [
    {
     "name": "stdout",
     "output_type": "stream",
     "text": [
      "tensor([[1, 2],\n",
      "        [3, 4]])\n",
      "torch.int64\n",
      "torch.Size([2, 2])\n",
      "cpu\n"
     ]
    }
   ],
   "execution_count": 7
  },
  {
   "metadata": {
    "ExecuteTime": {
     "end_time": "2025-10-30T13:58:30.297643Z",
     "start_time": "2025-10-30T13:58:30.294910Z"
    }
   },
   "cell_type": "code",
   "source": [
    "tensor_sum = x_data + x_data\n",
    "print(tensor_sum)"
   ],
   "id": "bbff895f8cbf15b0",
   "outputs": [
    {
     "name": "stdout",
     "output_type": "stream",
     "text": [
      "tensor([[2, 4],\n",
      "        [6, 8]])\n"
     ]
    }
   ],
   "execution_count": 8
  },
  {
   "metadata": {
    "ExecuteTime": {
     "end_time": "2025-10-30T13:58:30.345045Z",
     "start_time": "2025-10-30T13:58:30.342280Z"
    }
   },
   "cell_type": "code",
   "source": [
    "tensor_prod = 5 * x_data\n",
    "print(tensor_prod)"
   ],
   "id": "1f9794fdcbbdadc3",
   "outputs": [
    {
     "name": "stdout",
     "output_type": "stream",
     "text": [
      "tensor([[ 5, 10],\n",
      "        [15, 20]])\n"
     ]
    }
   ],
   "execution_count": 9
  },
  {
   "metadata": {
    "ExecuteTime": {
     "end_time": "2025-10-30T13:58:30.394132Z",
     "start_time": "2025-10-30T13:58:30.390653Z"
    }
   },
   "cell_type": "code",
   "source": [
    "print(f\"Tensor:\\n {x_data}\")\n",
    "print(f\"Transpose tensor:\\n {x_data.T}\")\n",
    "\n",
    "tensor_prod_trans = x_data @ x_data.T\n",
    "print(f\"Result:\\n {tensor_prod_trans}\")"
   ],
   "id": "a3c9b75058eeffd8",
   "outputs": [
    {
     "name": "stdout",
     "output_type": "stream",
     "text": [
      "Tensor:\n",
      " tensor([[1, 2],\n",
      "        [3, 4]])\n",
      "Transpose tensor:\n",
      " tensor([[1, 3],\n",
      "        [2, 4]])\n",
      "Result:\n",
      " tensor([[ 5, 11],\n",
      "        [11, 25]])\n"
     ]
    }
   ],
   "execution_count": 10
  },
  {
   "metadata": {},
   "cell_type": "markdown",
   "source": "# Indexing and Slicing",
   "id": "c7b8176454d6b260"
  },
  {
   "metadata": {
    "ExecuteTime": {
     "end_time": "2025-10-30T13:58:30.442472Z",
     "start_time": "2025-10-30T13:58:30.439225Z"
    }
   },
   "cell_type": "code",
   "source": [
    "first_row = x_data[0]\n",
    "print(f\"First row: {first_row}\")\n",
    "second_col = x_data[:, 1]\n",
    "print(f\"Second column: {second_col}\")\n",
    "value = x_data[1, 1]\n",
    "print(f\"Value: {value}\")"
   ],
   "id": "d6f356c69eee549a",
   "outputs": [
    {
     "name": "stdout",
     "output_type": "stream",
     "text": [
      "First row: tensor([1, 2])\n",
      "Second column: tensor([2, 4])\n",
      "Value: 4\n"
     ]
    }
   ],
   "execution_count": 11
  },
  {
   "metadata": {},
   "cell_type": "markdown",
   "source": "# Thay đổi hình dạng Tensor",
   "id": "56a1415cc6bc8a1f"
  },
  {
   "metadata": {
    "ExecuteTime": {
     "end_time": "2025-10-30T13:58:30.490308Z",
     "start_time": "2025-10-30T13:58:30.486224Z"
    }
   },
   "cell_type": "code",
   "source": [
    "X = torch.rand(4, 4)\n",
    "print(f\"Random tensor:\\n {X}\")\n",
    "Y = X.reshape((16, 1))\n",
    "print(f\"Reshape tensor:\\n {Y}\")"
   ],
   "id": "4a1afa402b172d2",
   "outputs": [
    {
     "name": "stdout",
     "output_type": "stream",
     "text": [
      "Random tensor:\n",
      " tensor([[0.6178, 0.9331, 0.6780, 0.6965],\n",
      "        [0.5465, 0.8181, 0.3849, 0.9848],\n",
      "        [0.8569, 0.9526, 0.3220, 0.8228],\n",
      "        [0.4253, 0.3162, 0.7710, 0.7640]])\n",
      "Reshape tensor:\n",
      " tensor([[0.6178],\n",
      "        [0.9331],\n",
      "        [0.6780],\n",
      "        [0.6965],\n",
      "        [0.5465],\n",
      "        [0.8181],\n",
      "        [0.3849],\n",
      "        [0.9848],\n",
      "        [0.8569],\n",
      "        [0.9526],\n",
      "        [0.3220],\n",
      "        [0.8228],\n",
      "        [0.4253],\n",
      "        [0.3162],\n",
      "        [0.7710],\n",
      "        [0.7640]])\n"
     ]
    }
   ],
   "execution_count": 12
  },
  {
   "metadata": {},
   "cell_type": "markdown",
   "source": "# Tự động tính Đạo hàm với `autograd`",
   "id": "ba8def5ff69e40a1"
  },
  {
   "metadata": {
    "ExecuteTime": {
     "end_time": "2025-10-30T13:58:30.670953Z",
     "start_time": "2025-10-30T13:58:30.533505Z"
    }
   },
   "cell_type": "code",
   "source": [
    "x = torch.ones(1, requires_grad=True)\n",
    "print(f\"x: {x}\")\n",
    "\n",
    "y = x + 2\n",
    "print(f\"y: {y}\")\n",
    "print(f\"y.grad_fn: {y.grad_fn}\")\n",
    "\n",
    "z = 3 * y * y\n",
    "z.backward()\n",
    "print(f\"Đạo hàm của z theo x: {x.grad}\")"
   ],
   "id": "aa4a9f083aa74834",
   "outputs": [
    {
     "name": "stdout",
     "output_type": "stream",
     "text": [
      "x: tensor([1.], requires_grad=True)\n",
      "y: tensor([3.], grad_fn=<AddBackward0>)\n",
      "y.grad_fn: <AddBackward0 object at 0x77d4b4438880>\n",
      "Đạo hàm của z theo x: tensor([18.])\n"
     ]
    }
   ],
   "execution_count": 13
  },
  {
   "metadata": {
    "ExecuteTime": {
     "end_time": "2025-10-30T13:58:30.677971Z",
     "start_time": "2025-10-30T13:58:30.674722Z"
    }
   },
   "cell_type": "code",
   "source": [
    "input = torch.ones(5)  # input tensor\n",
    "label = torch.zeros(3)  # expected output\n",
    "w = torch.randn(5, 3, requires_grad=True)\n",
    "b = torch.randn(3, requires_grad=True)\n",
    "pred = torch.matmul(input, w) + b\n",
    "loss = torch.nn.functional.binary_cross_entropy_with_logits(pred, label)"
   ],
   "id": "cd028903a0f78a51",
   "outputs": [],
   "execution_count": 14
  },
  {
   "metadata": {
    "ExecuteTime": {
     "end_time": "2025-10-30T13:58:30.726231Z",
     "start_time": "2025-10-30T13:58:30.721249Z"
    }
   },
   "cell_type": "code",
   "source": [
    "print(f\"Input:\\n {input}\")\n",
    "print(f\"Label:\\n {label}\")\n",
    "print(f\"Parmeters:\\n {w}\")\n",
    "print(f\"Bias:\\n {b}\")\n",
    "print(f\"Prediction:\\n {pred}\")\n",
    "print(f\"Loss: {loss}\")"
   ],
   "id": "7ba99f50c834c780",
   "outputs": [
    {
     "name": "stdout",
     "output_type": "stream",
     "text": [
      "Input:\n",
      " tensor([1., 1., 1., 1., 1.])\n",
      "Label:\n",
      " tensor([0., 0., 0.])\n",
      "Parmeters:\n",
      " tensor([[-0.2857,  0.0402,  0.7835],\n",
      "        [-0.4961,  0.4075,  0.2180],\n",
      "        [ 0.6910,  1.1184, -1.2423],\n",
      "        [ 0.6037,  0.7890, -1.1845],\n",
      "        [ 1.1127, -0.9284, -1.5770]], requires_grad=True)\n",
      "Bias:\n",
      " tensor([ 0.5856, -1.0752,  0.0619], requires_grad=True)\n",
      "Prediction:\n",
      " tensor([ 2.2112,  0.3516, -2.9404], grad_fn=<AddBackward0>)\n",
      "Loss: 1.083675503730774\n"
     ]
    }
   ],
   "execution_count": 15
  },
  {
   "metadata": {
    "ExecuteTime": {
     "end_time": "2025-10-30T13:58:30.773992Z",
     "start_time": "2025-10-30T13:58:30.770985Z"
    }
   },
   "cell_type": "code",
   "source": [
    "print(f\"Gradient function for z = {z.grad_fn}\")\n",
    "print(f\"Gradient function for loss = {loss.grad_fn}\")"
   ],
   "id": "5b79431421160096",
   "outputs": [
    {
     "name": "stdout",
     "output_type": "stream",
     "text": [
      "Gradient function for z = <MulBackward0 object at 0x77d3640fa6b0>\n",
      "Gradient function for loss = <BinaryCrossEntropyWithLogitsBackward0 object at 0x77d3640f9c00>\n"
     ]
    }
   ],
   "execution_count": 16
  },
  {
   "metadata": {
    "ExecuteTime": {
     "end_time": "2025-10-30T13:58:30.823381Z",
     "start_time": "2025-10-30T13:58:30.819466Z"
    }
   },
   "cell_type": "code",
   "source": [
    "loss.backward()\n",
    "print(w.grad)\n",
    "print(b.grad)"
   ],
   "id": "2cd84b507e07bd5",
   "outputs": [
    {
     "name": "stdout",
     "output_type": "stream",
     "text": [
      "tensor([[0.3004, 0.1957, 0.0167],\n",
      "        [0.3004, 0.1957, 0.0167],\n",
      "        [0.3004, 0.1957, 0.0167],\n",
      "        [0.3004, 0.1957, 0.0167],\n",
      "        [0.3004, 0.1957, 0.0167]])\n",
      "tensor([0.3004, 0.1957, 0.0167])\n"
     ]
    }
   ],
   "execution_count": 17
  },
  {
   "metadata": {},
   "cell_type": "markdown",
   "source": "# Xây dựng Mô hình đầu tiên với `torch.nn`",
   "id": "ac830ab891d429e7"
  },
  {
   "metadata": {
    "ExecuteTime": {
     "end_time": "2025-10-30T13:58:30.871433Z",
     "start_time": "2025-10-30T13:58:30.866401Z"
    }
   },
   "cell_type": "code",
   "source": [
    "linear_layer = nn.Linear(in_features=5, out_features=2)\n",
    "input_tensor = torch.randn(3, 5)\n",
    "output = linear_layer(input_tensor)\n",
    "\n",
    "print(f\"Input tensor:\\n {input_tensor}\")\n",
    "print(f\"Input tensor shape: {input_tensor.shape}\")\n",
    "\n",
    "print(f\"\\nLinear layer: {linear_layer}\")\n",
    "print(f\"Linear layer weight: {linear_layer.weight}\")\n",
    "print(f\"Linear layer bias: {linear_layer.bias}\")\n",
    "\n",
    "print(f\"\\nOutput tensor:\\n {output}\")"
   ],
   "id": "b6a7dc50bb98fcae",
   "outputs": [
    {
     "name": "stdout",
     "output_type": "stream",
     "text": [
      "Input tensor:\n",
      " tensor([[ 1.6003, -2.2417, -1.1308, -1.0873, -0.5396],\n",
      "        [ 1.2881, -1.5051, -1.3733,  0.7075,  0.3409],\n",
      "        [ 0.8490,  1.1690, -0.8782,  1.5041,  0.0854]])\n",
      "Input tensor shape: torch.Size([3, 5])\n",
      "\n",
      "Linear layer: Linear(in_features=5, out_features=2, bias=True)\n",
      "Linear layer weight: Parameter containing:\n",
      "tensor([[-0.1836,  0.1716,  0.2226, -0.2137, -0.2211],\n",
      "        [ 0.1912, -0.3166,  0.4117, -0.2287, -0.1025]], requires_grad=True)\n",
      "Linear layer bias: Parameter containing:\n",
      "tensor([0.2518, 0.0251], requires_grad=True)\n",
      "\n",
      "Output tensor:\n",
      " tensor([[-0.3267,  0.8793],\n",
      "        [-0.7752, -0.0142],\n",
      "        [-0.2392, -0.8970]], grad_fn=<AddmmBackward0>)\n"
     ]
    }
   ],
   "execution_count": 18
  },
  {
   "metadata": {
    "ExecuteTime": {
     "end_time": "2025-10-30T13:58:30.919581Z",
     "start_time": "2025-10-30T13:58:30.914468Z"
    }
   },
   "cell_type": "code",
   "source": [
    "embedding_layer = nn.Embedding(num_embeddings=10, embedding_dim=3)\n",
    "input_indices = torch.LongTensor([1, 5, 0, 8])\n",
    "embeddings = embedding_layer(input_indices)\n",
    "\n",
    "print(f\"Input indices:\\n {input_indices}\")\n",
    "print(f\"Input tensor shape: {input_indices.shape}\")\n",
    "\n",
    "print(f\"\\nEmbedding layer: {embedding_layer}\")\n",
    "print(f\"Linear layer weight: {embedding_layer.weight}\")\n",
    "\n",
    "print(f\"\\nOutput embedding:\\n {embeddings}\")"
   ],
   "id": "1748edfa812efe1e",
   "outputs": [
    {
     "name": "stdout",
     "output_type": "stream",
     "text": [
      "Input indices:\n",
      " tensor([1, 5, 0, 8])\n",
      "Input tensor shape: torch.Size([4])\n",
      "\n",
      "Embedding layer: Embedding(10, 3)\n",
      "Linear layer weight: Parameter containing:\n",
      "tensor([[ 0.9425, -0.0142,  0.9977],\n",
      "        [-1.2971, -1.9741, -0.6843],\n",
      "        [-0.3594,  0.4349,  0.2520],\n",
      "        [-0.1520, -1.2002, -0.3392],\n",
      "        [ 0.7016,  0.7317,  0.8861],\n",
      "        [ 0.1794, -1.0234, -0.6645],\n",
      "        [ 0.9749,  1.9143, -0.8344],\n",
      "        [-1.5049,  0.1248, -0.0432],\n",
      "        [-0.5368, -1.0138, -1.3212],\n",
      "        [ 0.2018,  0.4852,  0.6916]], requires_grad=True)\n",
      "\n",
      "Output embedding:\n",
      " tensor([[-1.2971, -1.9741, -0.6843],\n",
      "        [ 0.1794, -1.0234, -0.6645],\n",
      "        [ 0.9425, -0.0142,  0.9977],\n",
      "        [-0.5368, -1.0138, -1.3212]], grad_fn=<EmbeddingBackward0>)\n"
     ]
    }
   ],
   "execution_count": 19
  },
  {
   "metadata": {
    "ExecuteTime": {
     "end_time": "2025-10-30T13:58:30.971628Z",
     "start_time": "2025-10-30T13:58:30.963572Z"
    }
   },
   "cell_type": "code",
   "source": [
    "class MyEmbeddingModel(nn.Module):\n",
    "    def __init__(self, vocab_size, embedding_dim, hidden_dim, output_dim):\n",
    "        super(MyEmbeddingModel, self).__init__()\n",
    "        self.embedding = nn.Embedding(num_embeddings=vocab_size, embedding_dim=embedding_dim)\n",
    "        self.linear = nn.Linear(in_features=embedding_dim, out_features=hidden_dim)\n",
    "        self.relu = nn.ReLU()\n",
    "        self.output = nn.Linear(in_features=hidden_dim, out_features=output_dim)\n",
    "\n",
    "    def forward(self, x):\n",
    "        embedded = self.embedding(x)\n",
    "        hiddens = self.relu(self.linear(embedded))\n",
    "        output = self.output(hiddens)\n",
    "        return output\n",
    "\n",
    "\n",
    "model = MyEmbeddingModel(vocab_size=100, embedding_dim=16, hidden_dim=8, output_dim=2)\n",
    "input_data = torch.LongTensor([[1, 2, 5, 9]])  # một câu gồm 4 từ\n",
    "output_data = model(input_data)\n",
    "\n",
    "print(f\"Model architecture:\\n {model}\")\n",
    "print(f\"\\nEmbedding layer weight:\\n {model.embedding.weight}\")\n",
    "print(f\"\\n Linear layer weight:\\n {model.linear.weight}\")\n",
    "print(f\"\\n Linear layer bias:\\n {model.linear.bias}\")\n",
    "print(f\"\\nOutput layer weight:\\n {model.output.weight}\")\n",
    "print(f\"\\nOutput layer bias:\\n {model.output.bias}\")"
   ],
   "id": "62421ea5a94d566c",
   "outputs": [
    {
     "name": "stdout",
     "output_type": "stream",
     "text": [
      "Model architecture:\n",
      " MyEmbeddingModel(\n",
      "  (embedding): Embedding(100, 16)\n",
      "  (linear): Linear(in_features=16, out_features=8, bias=True)\n",
      "  (relu): ReLU()\n",
      "  (output): Linear(in_features=8, out_features=2, bias=True)\n",
      ")\n",
      "\n",
      "Embedding layer weight:\n",
      " Parameter containing:\n",
      "tensor([[ 0.8749, -1.7999, -0.8192,  ..., -1.3092, -0.0522,  0.5582],\n",
      "        [ 0.5537,  0.5817, -1.7849,  ..., -0.3201,  1.5454,  0.1548],\n",
      "        [-1.1546, -0.0535, -0.4936,  ...,  0.0157, -0.3744,  1.4172],\n",
      "        ...,\n",
      "        [ 0.7713,  1.6334,  1.4887,  ..., -1.5289, -0.8044, -0.5257],\n",
      "        [-0.9071,  1.7513, -0.0919,  ..., -0.4366,  0.9880, -0.5115],\n",
      "        [-2.3071,  0.7739,  0.6855,  ...,  1.2375, -0.3032,  0.3141]],\n",
      "       requires_grad=True)\n",
      "\n",
      " Linear layer weight:\n",
      " Parameter containing:\n",
      "tensor([[-0.2132, -0.1813,  0.0147, -0.0376, -0.0598,  0.1064, -0.0018,  0.0485,\n",
      "          0.0921,  0.0599, -0.1304, -0.0171,  0.2212, -0.1052, -0.0422,  0.0947],\n",
      "        [ 0.1780, -0.2222,  0.2343, -0.1349, -0.2227, -0.0503,  0.1894,  0.1603,\n",
      "          0.1723, -0.1083,  0.1359,  0.1866, -0.0106,  0.1731, -0.0683, -0.0826],\n",
      "        [-0.2363, -0.2282,  0.0068,  0.1513, -0.1181, -0.0091,  0.1111, -0.1009,\n",
      "         -0.2109, -0.1205,  0.2281, -0.2387,  0.1994,  0.0325, -0.0212, -0.1496],\n",
      "        [ 0.1018, -0.0870,  0.1005, -0.0092,  0.1167, -0.1398, -0.1886, -0.1153,\n",
      "          0.0511, -0.2083, -0.1752,  0.0502, -0.2268, -0.1009,  0.1545, -0.0531],\n",
      "        [ 0.2310,  0.0715, -0.0963,  0.0800, -0.0764,  0.0134,  0.1542,  0.1108,\n",
      "         -0.1653,  0.1582, -0.1411, -0.1375, -0.1256, -0.0008,  0.2092,  0.2402],\n",
      "        [ 0.0415,  0.1439, -0.2458,  0.0607, -0.0474, -0.0866,  0.1783,  0.0519,\n",
      "          0.1450, -0.2484,  0.0044, -0.2359, -0.0182,  0.1789, -0.1097,  0.0119],\n",
      "        [-0.1534,  0.0881,  0.2220,  0.2178,  0.1306, -0.0072, -0.2168,  0.0583,\n",
      "          0.0243, -0.2141,  0.0528, -0.1529, -0.0228,  0.2362,  0.1991, -0.2137],\n",
      "        [-0.0161,  0.1833,  0.2079,  0.0146, -0.1822,  0.1859, -0.0236, -0.0229,\n",
      "         -0.1565,  0.1859,  0.1939,  0.1080, -0.0473, -0.2278,  0.1895, -0.0577]],\n",
      "       requires_grad=True)\n",
      "\n",
      " Linear layer bias:\n",
      " Parameter containing:\n",
      "tensor([-0.0612,  0.2104,  0.0440,  0.0544, -0.2381,  0.2169,  0.0064, -0.1293],\n",
      "       requires_grad=True)\n",
      "\n",
      "Output layer weight:\n",
      " Parameter containing:\n",
      "tensor([[-0.3202,  0.0746,  0.2468, -0.0164,  0.1294, -0.2981, -0.1033, -0.0926],\n",
      "        [-0.3087, -0.3418,  0.0894,  0.0032, -0.2809, -0.2898, -0.3532, -0.0429]],\n",
      "       requires_grad=True)\n",
      "\n",
      "Output layer bias:\n",
      " Parameter containing:\n",
      "tensor([ 0.1695, -0.1180], requires_grad=True)\n"
     ]
    }
   ],
   "execution_count": 20
  },
  {
   "metadata": {
    "ExecuteTime": {
     "end_time": "2025-10-30T13:58:31.016601Z",
     "start_time": "2025-10-30T13:58:31.013024Z"
    }
   },
   "cell_type": "code",
   "source": [
    "print(f\"\\nInput data: {input_data}\")\n",
    "print(f\"Input data shape: {input_data.shape}\")\n",
    "print(f\"Output data:\\n {output_data}\")\n",
    "print(f\"Model output shape: {output_data.shape}\")"
   ],
   "id": "34f160a2d2814c2",
   "outputs": [
    {
     "name": "stdout",
     "output_type": "stream",
     "text": [
      "\n",
      "Input data: tensor([[1, 2, 5, 9]])\n",
      "Input data shape: torch.Size([1, 4])\n",
      "Output data:\n",
      " tensor([[[ 0.0460, -0.4241],\n",
      "         [-0.0021, -0.9009],\n",
      "         [ 0.0413, -0.3359],\n",
      "         [ 0.1558, -0.3918]]], grad_fn=<ViewBackward0>)\n",
      "Model output shape: torch.Size([1, 4, 2])\n"
     ]
    }
   ],
   "execution_count": 21
  }
 ],
 "metadata": {
  "kernelspec": {
   "display_name": "Python 3",
   "language": "python",
   "name": "python3"
  },
  "language_info": {
   "codemirror_mode": {
    "name": "ipython",
    "version": 2
   },
   "file_extension": ".py",
   "mimetype": "text/x-python",
   "name": "python",
   "nbconvert_exporter": "python",
   "pygments_lexer": "ipython2",
   "version": "2.7.6"
  }
 },
 "nbformat": 4,
 "nbformat_minor": 5
}
