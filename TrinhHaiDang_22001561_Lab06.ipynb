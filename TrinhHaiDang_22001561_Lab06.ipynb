{
 "cells": [
  {
   "cell_type": "code",
   "id": "initial_id",
   "metadata": {
    "collapsed": true,
    "ExecuteTime": {
     "end_time": "2025-10-30T14:01:02.871390Z",
     "start_time": "2025-10-30T14:01:01.725447Z"
    }
   },
   "source": [
    "import numpy as np\n",
    "import torch\n",
    "import torch.nn as nn"
   ],
   "outputs": [],
   "execution_count": 1
  },
  {
   "metadata": {},
   "cell_type": "markdown",
   "source": "# Khởi tạo Tensor",
   "id": "14786a816f25d239"
  },
  {
   "metadata": {
    "ExecuteTime": {
     "end_time": "2025-10-30T14:01:02.879344Z",
     "start_time": "2025-10-30T14:01:02.875784Z"
    }
   },
   "cell_type": "code",
   "source": [
    "data = [[1, 2], [3, 4]]\n",
    "x_data = torch.tensor(data)\n",
    "print(x_data)"
   ],
   "id": "1f4dd80378e7658b",
   "outputs": [
    {
     "name": "stdout",
     "output_type": "stream",
     "text": [
      "tensor([[1, 2],\n",
      "        [3, 4]])\n"
     ]
    }
   ],
   "execution_count": 2
  },
  {
   "metadata": {
    "ExecuteTime": {
     "end_time": "2025-10-30T14:01:02.928461Z",
     "start_time": "2025-10-30T14:01:02.925165Z"
    }
   },
   "cell_type": "code",
   "source": [
    "np_array = np.array(data)\n",
    "x_np = torch.from_numpy(np_array)\n",
    "print(x_np)"
   ],
   "id": "de8a49c563ec306e",
   "outputs": [
    {
     "name": "stdout",
     "output_type": "stream",
     "text": [
      "tensor([[1, 2],\n",
      "        [3, 4]])\n"
     ]
    }
   ],
   "execution_count": 3
  },
  {
   "metadata": {
    "ExecuteTime": {
     "end_time": "2025-10-30T14:01:02.977102Z",
     "start_time": "2025-10-30T14:01:02.972679Z"
    }
   },
   "cell_type": "code",
   "source": [
    "x_ones = torch.ones_like(x_data)  # retains the properties of x_data\n",
    "print(f\"Ones Tensor: \\n {x_ones}\")\n",
    "\n",
    "x_rand = torch.rand_like(x_data, dtype=torch.float)  # overrides the datatype of x_data\n",
    "print(f\"\\nRandom Tensor: \\n {x_rand}\")"
   ],
   "id": "de2094dad95bceb7",
   "outputs": [
    {
     "name": "stdout",
     "output_type": "stream",
     "text": [
      "Ones Tensor: \n",
      " tensor([[1, 1],\n",
      "        [1, 1]])\n",
      "\n",
      "Random Tensor: \n",
      " tensor([[0.5474, 0.7187],\n",
      "        [0.0911, 0.4360]])\n"
     ]
    }
   ],
   "execution_count": 4
  },
  {
   "metadata": {
    "ExecuteTime": {
     "end_time": "2025-10-30T14:01:03.026226Z",
     "start_time": "2025-10-30T14:01:03.021600Z"
    }
   },
   "cell_type": "code",
   "source": [
    "shape = (2, 3,)\n",
    "rand_tensor = torch.rand(shape)\n",
    "ones_tensor = torch.ones(shape)\n",
    "zeros_tensor = torch.zeros(shape)\n",
    "\n",
    "print(f\"Random Tensor: \\n {rand_tensor} \\n\")\n",
    "print(f\"Ones Tensor: \\n {ones_tensor} \\n\")\n",
    "print(f\"Zeros Tensor: \\n {zeros_tensor}\")"
   ],
   "id": "230e9b7b106cf500",
   "outputs": [
    {
     "name": "stdout",
     "output_type": "stream",
     "text": [
      "Random Tensor: \n",
      " tensor([[0.0269, 0.2381, 0.1505],\n",
      "        [0.1844, 0.4419, 0.8803]]) \n",
      "\n",
      "Ones Tensor: \n",
      " tensor([[1., 1., 1.],\n",
      "        [1., 1., 1.]]) \n",
      "\n",
      "Zeros Tensor: \n",
      " tensor([[0., 0., 0.],\n",
      "        [0., 0., 0.]])\n"
     ]
    }
   ],
   "execution_count": 5
  },
  {
   "metadata": {
    "ExecuteTime": {
     "end_time": "2025-10-30T14:01:03.074358Z",
     "start_time": "2025-10-30T14:01:03.070798Z"
    }
   },
   "cell_type": "code",
   "source": [
    "tensor = torch.rand(3, 4)\n",
    "\n",
    "print(tensor)\n",
    "print(f\"Shape of tensor: {tensor.shape}\")\n",
    "print(f\"Datatype of tensor: {tensor.dtype}\")\n",
    "print(f\"Device tensor is stored on: {tensor.device}\")"
   ],
   "id": "493b57421f75e034",
   "outputs": [
    {
     "name": "stdout",
     "output_type": "stream",
     "text": [
      "tensor([[0.9259, 0.6655, 0.9481, 0.2133],\n",
      "        [0.3388, 0.2886, 0.7869, 0.2455],\n",
      "        [0.5542, 0.5685, 0.0536, 0.5490]])\n",
      "Shape of tensor: torch.Size([3, 4])\n",
      "Datatype of tensor: torch.float32\n",
      "Device tensor is stored on: cpu\n"
     ]
    }
   ],
   "execution_count": 6
  },
  {
   "metadata": {},
   "cell_type": "markdown",
   "source": "# Các phép toán trên Tensor",
   "id": "673e9b10d4c29256"
  },
  {
   "metadata": {
    "ExecuteTime": {
     "end_time": "2025-10-30T14:01:03.122208Z",
     "start_time": "2025-10-30T14:01:03.119411Z"
    }
   },
   "cell_type": "code",
   "source": [
    "print(x_data)\n",
    "print(x_data.dtype)\n",
    "print(x_data.shape)\n",
    "print(x_data.device)"
   ],
   "id": "5c13211c1ecebfb5",
   "outputs": [
    {
     "name": "stdout",
     "output_type": "stream",
     "text": [
      "tensor([[1, 2],\n",
      "        [3, 4]])\n",
      "torch.int64\n",
      "torch.Size([2, 2])\n",
      "cpu\n"
     ]
    }
   ],
   "execution_count": 7
  },
  {
   "metadata": {
    "ExecuteTime": {
     "end_time": "2025-10-30T14:01:03.170323Z",
     "start_time": "2025-10-30T14:01:03.167134Z"
    }
   },
   "cell_type": "code",
   "source": [
    "tensor_sum = x_data + x_data\n",
    "print(tensor_sum)"
   ],
   "id": "bbff895f8cbf15b0",
   "outputs": [
    {
     "name": "stdout",
     "output_type": "stream",
     "text": [
      "tensor([[2, 4],\n",
      "        [6, 8]])\n"
     ]
    }
   ],
   "execution_count": 8
  },
  {
   "metadata": {
    "ExecuteTime": {
     "end_time": "2025-10-30T14:01:03.218417Z",
     "start_time": "2025-10-30T14:01:03.215081Z"
    }
   },
   "cell_type": "code",
   "source": [
    "tensor_prod = 5 * x_data\n",
    "print(tensor_prod)"
   ],
   "id": "1f9794fdcbbdadc3",
   "outputs": [
    {
     "name": "stdout",
     "output_type": "stream",
     "text": [
      "tensor([[ 5, 10],\n",
      "        [15, 20]])\n"
     ]
    }
   ],
   "execution_count": 9
  },
  {
   "metadata": {
    "ExecuteTime": {
     "end_time": "2025-10-30T14:01:03.267374Z",
     "start_time": "2025-10-30T14:01:03.263069Z"
    }
   },
   "cell_type": "code",
   "source": [
    "print(f\"Tensor:\\n {x_data}\")\n",
    "print(f\"Transpose tensor:\\n {x_data.T}\")\n",
    "\n",
    "tensor_prod_trans = x_data @ x_data.T\n",
    "print(f\"Result:\\n {tensor_prod_trans}\")"
   ],
   "id": "a3c9b75058eeffd8",
   "outputs": [
    {
     "name": "stdout",
     "output_type": "stream",
     "text": [
      "Tensor:\n",
      " tensor([[1, 2],\n",
      "        [3, 4]])\n",
      "Transpose tensor:\n",
      " tensor([[1, 3],\n",
      "        [2, 4]])\n",
      "Result:\n",
      " tensor([[ 5, 11],\n",
      "        [11, 25]])\n"
     ]
    }
   ],
   "execution_count": 10
  },
  {
   "metadata": {},
   "cell_type": "markdown",
   "source": "# Indexing and Slicing",
   "id": "c7b8176454d6b260"
  },
  {
   "metadata": {
    "ExecuteTime": {
     "end_time": "2025-10-30T14:01:03.314911Z",
     "start_time": "2025-10-30T14:01:03.310940Z"
    }
   },
   "cell_type": "code",
   "source": [
    "first_row = x_data[0]\n",
    "print(f\"First row: {first_row}\")\n",
    "second_col = x_data[:, 1]\n",
    "print(f\"Second column: {second_col}\")\n",
    "value = x_data[1, 1]\n",
    "print(f\"Value: {value}\")"
   ],
   "id": "d6f356c69eee549a",
   "outputs": [
    {
     "name": "stdout",
     "output_type": "stream",
     "text": [
      "First row: tensor([1, 2])\n",
      "Second column: tensor([2, 4])\n",
      "Value: 4\n"
     ]
    }
   ],
   "execution_count": 11
  },
  {
   "metadata": {},
   "cell_type": "markdown",
   "source": "# Thay đổi hình dạng Tensor",
   "id": "56a1415cc6bc8a1f"
  },
  {
   "metadata": {
    "ExecuteTime": {
     "end_time": "2025-10-30T14:01:03.362299Z",
     "start_time": "2025-10-30T14:01:03.358577Z"
    }
   },
   "cell_type": "code",
   "source": [
    "X = torch.rand(4, 4)\n",
    "print(f\"Random tensor:\\n {X}\")\n",
    "Y = X.reshape((16, 1))\n",
    "print(f\"Reshape tensor:\\n {Y}\")"
   ],
   "id": "4a1afa402b172d2",
   "outputs": [
    {
     "name": "stdout",
     "output_type": "stream",
     "text": [
      "Random tensor:\n",
      " tensor([[0.1133, 0.1437, 0.4758, 0.2063],\n",
      "        [0.5549, 0.0097, 0.4989, 0.8036],\n",
      "        [0.5132, 0.6566, 0.6140, 0.8985],\n",
      "        [0.4468, 0.1644, 0.9430, 0.7941]])\n",
      "Reshape tensor:\n",
      " tensor([[0.1133],\n",
      "        [0.1437],\n",
      "        [0.4758],\n",
      "        [0.2063],\n",
      "        [0.5549],\n",
      "        [0.0097],\n",
      "        [0.4989],\n",
      "        [0.8036],\n",
      "        [0.5132],\n",
      "        [0.6566],\n",
      "        [0.6140],\n",
      "        [0.8985],\n",
      "        [0.4468],\n",
      "        [0.1644],\n",
      "        [0.9430],\n",
      "        [0.7941]])\n"
     ]
    }
   ],
   "execution_count": 12
  },
  {
   "metadata": {},
   "cell_type": "markdown",
   "source": "# Tự động tính Đạo hàm với `autograd`",
   "id": "ba8def5ff69e40a1"
  },
  {
   "metadata": {
    "ExecuteTime": {
     "end_time": "2025-10-30T14:01:03.526872Z",
     "start_time": "2025-10-30T14:01:03.406298Z"
    }
   },
   "cell_type": "code",
   "source": [
    "x = torch.ones(1, requires_grad=True)\n",
    "print(f\"x: {x}\")\n",
    "\n",
    "y = x + 2\n",
    "print(f\"y: {y}\")\n",
    "print(f\"y.grad_fn: {y.grad_fn}\")\n",
    "\n",
    "z = 3 * y * y\n",
    "z.backward()\n",
    "print(f\"Đạo hàm của z theo x: {x.grad}\")"
   ],
   "id": "aa4a9f083aa74834",
   "outputs": [
    {
     "name": "stdout",
     "output_type": "stream",
     "text": [
      "x: tensor([1.], requires_grad=True)\n",
      "y: tensor([3.], grad_fn=<AddBackward0>)\n",
      "y.grad_fn: <AddBackward0 object at 0x7b2b8d7b01c0>\n",
      "Đạo hàm của z theo x: tensor([18.])\n"
     ]
    }
   ],
   "execution_count": 13
  },
  {
   "metadata": {
    "ExecuteTime": {
     "end_time": "2025-10-30T14:01:03.534067Z",
     "start_time": "2025-10-30T14:01:03.530893Z"
    }
   },
   "cell_type": "code",
   "source": [
    "input = torch.ones(5)  # input tensor\n",
    "label = torch.zeros(3)  # expected output\n",
    "w = torch.randn(5, 3, requires_grad=True)\n",
    "b = torch.randn(3, requires_grad=True)\n",
    "pred = torch.matmul(input, w) + b\n",
    "loss = torch.nn.functional.binary_cross_entropy_with_logits(pred, label)"
   ],
   "id": "cd028903a0f78a51",
   "outputs": [],
   "execution_count": 14
  },
  {
   "metadata": {
    "ExecuteTime": {
     "end_time": "2025-10-30T14:01:03.583771Z",
     "start_time": "2025-10-30T14:01:03.578300Z"
    }
   },
   "cell_type": "code",
   "source": [
    "print(f\"Input:\\n {input}\")\n",
    "print(f\"Label:\\n {label}\")\n",
    "print(f\"Parmeters:\\n {w}\")\n",
    "print(f\"Bias:\\n {b}\")\n",
    "print(f\"Prediction:\\n {pred}\")\n",
    "print(f\"Loss: {loss}\")"
   ],
   "id": "7ba99f50c834c780",
   "outputs": [
    {
     "name": "stdout",
     "output_type": "stream",
     "text": [
      "Input:\n",
      " tensor([1., 1., 1., 1., 1.])\n",
      "Label:\n",
      " tensor([0., 0., 0.])\n",
      "Parmeters:\n",
      " tensor([[ 0.6180,  0.7574,  0.5754],\n",
      "        [ 0.1068,  0.4342, -0.5988],\n",
      "        [ 1.6994, -0.7336, -0.1123],\n",
      "        [ 1.3854,  1.3667,  0.1681],\n",
      "        [ 1.2387,  1.3280, -0.3087]], requires_grad=True)\n",
      "Bias:\n",
      " tensor([-2.8008, -0.8655,  0.4131], requires_grad=True)\n",
      "Prediction:\n",
      " tensor([2.2475, 2.2873, 0.1367], grad_fn=<AddBackward0>)\n",
      "Loss: 1.8319182395935059\n"
     ]
    }
   ],
   "execution_count": 15
  },
  {
   "metadata": {
    "ExecuteTime": {
     "end_time": "2025-10-30T14:01:03.633131Z",
     "start_time": "2025-10-30T14:01:03.626887Z"
    }
   },
   "cell_type": "code",
   "source": [
    "print(f\"Gradient function for z = {z.grad_fn}\")\n",
    "print(f\"Gradient function for loss = {loss.grad_fn}\")"
   ],
   "id": "5b79431421160096",
   "outputs": [
    {
     "name": "stdout",
     "output_type": "stream",
     "text": [
      "Gradient function for z = <MulBackward0 object at 0x7b2b8d7b2770>\n",
      "Gradient function for loss = <BinaryCrossEntropyWithLogitsBackward0 object at 0x7b2a3afae9b0>\n"
     ]
    }
   ],
   "execution_count": 16
  },
  {
   "metadata": {
    "ExecuteTime": {
     "end_time": "2025-10-30T14:01:03.684054Z",
     "start_time": "2025-10-30T14:01:03.680012Z"
    }
   },
   "cell_type": "code",
   "source": [
    "loss.backward()\n",
    "print(w.grad)\n",
    "print(b.grad)"
   ],
   "id": "2cd84b507e07bd5",
   "outputs": [
    {
     "name": "stdout",
     "output_type": "stream",
     "text": [
      "tensor([[0.3015, 0.3026, 0.1780],\n",
      "        [0.3015, 0.3026, 0.1780],\n",
      "        [0.3015, 0.3026, 0.1780],\n",
      "        [0.3015, 0.3026, 0.1780],\n",
      "        [0.3015, 0.3026, 0.1780]])\n",
      "tensor([0.3015, 0.3026, 0.1780])\n"
     ]
    }
   ],
   "execution_count": 17
  },
  {
   "metadata": {},
   "cell_type": "markdown",
   "source": "# Xây dựng Mô hình đầu tiên với `torch.nn`",
   "id": "ac830ab891d429e7"
  },
  {
   "metadata": {
    "ExecuteTime": {
     "end_time": "2025-10-30T14:01:03.733358Z",
     "start_time": "2025-10-30T14:01:03.726540Z"
    }
   },
   "cell_type": "code",
   "source": [
    "linear_layer = nn.Linear(in_features=5, out_features=2)\n",
    "input_tensor = torch.randn(3, 5)\n",
    "output = linear_layer(input_tensor)\n",
    "\n",
    "print(f\"Input tensor:\\n {input_tensor}\")\n",
    "print(f\"Input tensor shape: {input_tensor.shape}\")\n",
    "\n",
    "print(f\"\\nLinear layer: {linear_layer}\")\n",
    "print(f\"Linear layer weight: {linear_layer.weight}\")\n",
    "print(f\"Linear layer bias: {linear_layer.bias}\")\n",
    "\n",
    "print(f\"\\nOutput tensor:\\n {output}\")"
   ],
   "id": "b6a7dc50bb98fcae",
   "outputs": [
    {
     "name": "stdout",
     "output_type": "stream",
     "text": [
      "Input tensor:\n",
      " tensor([[-0.0357,  0.0322, -0.4477,  1.7809, -0.4519],\n",
      "        [-1.2947,  0.4796, -1.4674, -0.6921, -0.9509],\n",
      "        [-0.8324,  1.9692, -0.0244, -0.3308, -0.8285]])\n",
      "Input tensor shape: torch.Size([3, 5])\n",
      "\n",
      "Linear layer: Linear(in_features=5, out_features=2, bias=True)\n",
      "Linear layer weight: Parameter containing:\n",
      "tensor([[ 0.2077, -0.0952,  0.3542,  0.0226, -0.1164],\n",
      "        [ 0.0853,  0.1652, -0.0875, -0.2548,  0.3096]], requires_grad=True)\n",
      "Linear layer bias: Parameter containing:\n",
      "tensor([0.2826, 0.1163], requires_grad=True)\n",
      "\n",
      "Output tensor:\n",
      " tensor([[ 0.2063, -0.4359],\n",
      "        [-0.4567,  0.0954],\n",
      "        [ 0.0025,  0.2005]], grad_fn=<AddmmBackward0>)\n"
     ]
    }
   ],
   "execution_count": 18
  },
  {
   "metadata": {
    "ExecuteTime": {
     "end_time": "2025-10-30T14:01:03.780439Z",
     "start_time": "2025-10-30T14:01:03.774780Z"
    }
   },
   "cell_type": "code",
   "source": [
    "embedding_layer = nn.Embedding(num_embeddings=10, embedding_dim=3)\n",
    "input_indices = torch.LongTensor([1, 5, 0, 8])\n",
    "embeddings = embedding_layer(input_indices)\n",
    "\n",
    "print(f\"Input indices:\\n {input_indices}\")\n",
    "print(f\"Input tensor shape: {input_indices.shape}\")\n",
    "\n",
    "print(f\"\\nEmbedding layer: {embedding_layer}\")\n",
    "print(f\"Linear layer weight: {embedding_layer.weight}\")\n",
    "\n",
    "print(f\"\\nOutput embedding:\\n {embeddings}\")"
   ],
   "id": "1748edfa812efe1e",
   "outputs": [
    {
     "name": "stdout",
     "output_type": "stream",
     "text": [
      "Input indices:\n",
      " tensor([1, 5, 0, 8])\n",
      "Input tensor shape: torch.Size([4])\n",
      "\n",
      "Embedding layer: Embedding(10, 3)\n",
      "Linear layer weight: Parameter containing:\n",
      "tensor([[-1.1903,  0.9506,  0.7863],\n",
      "        [ 0.9045, -0.1981, -0.3599],\n",
      "        [-0.2227,  0.0022,  0.7792],\n",
      "        [-0.9901, -0.0052, -0.1831],\n",
      "        [-0.8967,  0.7506, -0.9398],\n",
      "        [-0.2036,  1.1463, -0.3541],\n",
      "        [ 0.7286, -0.0745, -1.6800],\n",
      "        [-0.1031,  0.9848, -1.7614],\n",
      "        [-0.9449,  1.1879,  0.8034],\n",
      "        [ 1.9374,  0.1001,  0.9170]], requires_grad=True)\n",
      "\n",
      "Output embedding:\n",
      " tensor([[ 0.9045, -0.1981, -0.3599],\n",
      "        [-0.2036,  1.1463, -0.3541],\n",
      "        [-1.1903,  0.9506,  0.7863],\n",
      "        [-0.9449,  1.1879,  0.8034]], grad_fn=<EmbeddingBackward0>)\n"
     ]
    }
   ],
   "execution_count": 19
  },
  {
   "metadata": {
    "ExecuteTime": {
     "end_time": "2025-10-30T14:01:03.830870Z",
     "start_time": "2025-10-30T14:01:03.821883Z"
    }
   },
   "cell_type": "code",
   "source": [
    "class MyEmbeddingModel(nn.Module):\n",
    "    def __init__(self, vocab_size, embedding_dim, hidden_dim, output_dim):\n",
    "        super(MyEmbeddingModel, self).__init__()\n",
    "        self.embedding = nn.Embedding(num_embeddings=vocab_size, embedding_dim=embedding_dim)\n",
    "        self.linear = nn.Linear(in_features=embedding_dim, out_features=hidden_dim)\n",
    "        self.relu = nn.ReLU()\n",
    "        self.output = nn.Linear(in_features=hidden_dim, out_features=output_dim)\n",
    "\n",
    "    def forward(self, x):\n",
    "        embedded = self.embedding(x)\n",
    "        hiddens = self.relu(self.linear(embedded))\n",
    "        output = self.output(hiddens)\n",
    "        return output\n",
    "\n",
    "\n",
    "model = MyEmbeddingModel(vocab_size=100, embedding_dim=16, hidden_dim=8, output_dim=2)\n",
    "input_data = torch.LongTensor([[1, 2, 5, 9]])  # một câu gồm 4 từ\n",
    "output_data = model(input_data)\n",
    "\n",
    "print(f\"Model architecture:\\n {model}\")\n",
    "print(f\"\\nEmbedding layer weight:\\n {model.embedding.weight}\")\n",
    "print(f\"\\n Linear layer weight:\\n {model.linear.weight}\")\n",
    "print(f\"\\n Linear layer bias:\\n {model.linear.bias}\")\n",
    "print(f\"\\nOutput layer weight:\\n {model.output.weight}\")\n",
    "print(f\"\\nOutput layer bias:\\n {model.output.bias}\")"
   ],
   "id": "62421ea5a94d566c",
   "outputs": [
    {
     "name": "stdout",
     "output_type": "stream",
     "text": [
      "Model architecture:\n",
      " MyEmbeddingModel(\n",
      "  (embedding): Embedding(100, 16)\n",
      "  (linear): Linear(in_features=16, out_features=8, bias=True)\n",
      "  (relu): ReLU()\n",
      "  (output): Linear(in_features=8, out_features=2, bias=True)\n",
      ")\n",
      "\n",
      "Embedding layer weight:\n",
      " Parameter containing:\n",
      "tensor([[ 0.6946,  0.1798,  1.6444,  ...,  0.2180,  0.5779, -1.3023],\n",
      "        [-1.3901,  0.8253,  0.2276,  ...,  1.7043, -0.4909, -0.3547],\n",
      "        [ 0.6007,  0.7946,  0.4335,  ..., -0.9407,  0.6403,  1.5879],\n",
      "        ...,\n",
      "        [ 1.2256, -0.9045,  1.6420,  ...,  0.2342, -1.5155,  0.2022],\n",
      "        [ 0.6981, -0.9329,  1.1856,  ..., -1.6669,  0.4777,  0.1773],\n",
      "        [ 0.9881, -0.9919, -2.2174,  ...,  0.5627, -0.3794,  0.2262]],\n",
      "       requires_grad=True)\n",
      "\n",
      " Linear layer weight:\n",
      " Parameter containing:\n",
      "tensor([[ 0.1249,  0.1644,  0.2135, -0.1289,  0.1772,  0.1038, -0.0555, -0.0770,\n",
      "          0.1769, -0.0203, -0.1169,  0.0736,  0.0907,  0.1431,  0.1695,  0.0891],\n",
      "        [-0.0776, -0.0159,  0.1420, -0.1121,  0.2221,  0.2009, -0.1212, -0.0257,\n",
      "          0.0043, -0.2461,  0.2149, -0.1920, -0.2279,  0.0464, -0.1964, -0.1704],\n",
      "        [ 0.1077,  0.1269, -0.2491, -0.0989, -0.0996, -0.0356, -0.1655, -0.1639,\n",
      "          0.0830,  0.1481,  0.0805, -0.0466,  0.1369,  0.0813, -0.0292,  0.1172],\n",
      "        [-0.2392,  0.1209,  0.1600,  0.0076,  0.1981,  0.0066, -0.0469, -0.0663,\n",
      "         -0.1739,  0.1806,  0.1050, -0.1390, -0.1035, -0.1033, -0.0588,  0.1397],\n",
      "        [-0.1676,  0.0253, -0.2462,  0.1400,  0.1457, -0.1636, -0.1262,  0.0504,\n",
      "          0.1431, -0.1393,  0.2026,  0.1895,  0.1434,  0.1794, -0.1159, -0.1153],\n",
      "        [-0.0990, -0.1220,  0.0568,  0.2146,  0.1283, -0.1086,  0.2292, -0.2298,\n",
      "          0.0782,  0.1430, -0.1436, -0.0683, -0.2087,  0.0215,  0.1810,  0.1355],\n",
      "        [ 0.1522,  0.0133, -0.2209, -0.2270, -0.2003,  0.1437, -0.1340,  0.0269,\n",
      "          0.0171, -0.0171, -0.2420,  0.2325, -0.0801, -0.2462,  0.1755,  0.1747],\n",
      "        [-0.1261,  0.1529,  0.2179, -0.0292, -0.0841,  0.2112, -0.1800,  0.0694,\n",
      "         -0.2282,  0.1302,  0.0989,  0.2370, -0.0371,  0.2193, -0.1591,  0.1841]],\n",
      "       requires_grad=True)\n",
      "\n",
      " Linear layer bias:\n",
      " Parameter containing:\n",
      "tensor([ 0.0883,  0.0730,  0.1313, -0.2132, -0.1564,  0.2065, -0.1495, -0.1882],\n",
      "       requires_grad=True)\n",
      "\n",
      "Output layer weight:\n",
      " Parameter containing:\n",
      "tensor([[-0.3058,  0.2991, -0.1430, -0.2804,  0.0444,  0.0058, -0.2453,  0.2814],\n",
      "        [-0.3158, -0.2344,  0.2030,  0.1235, -0.0987, -0.2919, -0.3274,  0.1453]],\n",
      "       requires_grad=True)\n",
      "\n",
      "Output layer bias:\n",
      " Parameter containing:\n",
      "tensor([ 0.0251, -0.2953], requires_grad=True)\n"
     ]
    }
   ],
   "execution_count": 20
  },
  {
   "metadata": {
    "ExecuteTime": {
     "end_time": "2025-10-30T14:01:03.903300Z",
     "start_time": "2025-10-30T14:01:03.899848Z"
    }
   },
   "cell_type": "code",
   "source": [
    "print(f\"\\nInput data: {input_data}\")\n",
    "print(f\"Input data shape: {input_data.shape}\")\n",
    "print(f\"Output data:\\n {output_data}\")\n",
    "print(f\"Model output shape: {output_data.shape}\")"
   ],
   "id": "34f160a2d2814c2",
   "outputs": [
    {
     "name": "stdout",
     "output_type": "stream",
     "text": [
      "\n",
      "Input data: tensor([[1, 2, 5, 9]])\n",
      "Input data shape: torch.Size([1, 4])\n",
      "Output data:\n",
      " tensor([[[ 0.1911, -0.4787],\n",
      "         [-0.3861, -0.6195],\n",
      "         [ 0.1055, -0.4235],\n",
      "         [-0.3616, -0.6898]]], grad_fn=<ViewBackward0>)\n",
      "Model output shape: torch.Size([1, 4, 2])\n"
     ]
    }
   ],
   "execution_count": 21
  }
 ],
 "metadata": {
  "kernelspec": {
   "display_name": "Python 3",
   "language": "python",
   "name": "python3"
  },
  "language_info": {
   "codemirror_mode": {
    "name": "ipython",
    "version": 2
   },
   "file_extension": ".py",
   "mimetype": "text/x-python",
   "name": "python",
   "nbconvert_exporter": "python",
   "pygments_lexer": "ipython2",
   "version": "2.7.6"
  }
 },
 "nbformat": 4,
 "nbformat_minor": 5
}
