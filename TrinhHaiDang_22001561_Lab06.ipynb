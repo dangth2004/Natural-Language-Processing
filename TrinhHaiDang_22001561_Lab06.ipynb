{
 "cells": [
  {
   "cell_type": "code",
   "execution_count": 1,
   "id": "initial_id",
   "metadata": {
    "ExecuteTime": {
     "end_time": "2025-10-30T14:01:02.871390Z",
     "start_time": "2025-10-30T14:01:01.725447Z"
    }
   },
   "outputs": [],
   "source": [
    "import numpy as np\n",
    "import torch\n",
    "import torch.nn as nn"
   ]
  },
  {
   "cell_type": "markdown",
   "id": "14786a816f25d239",
   "metadata": {},
   "source": [
    "# Khởi tạo Tensor"
   ]
  },
  {
   "cell_type": "code",
   "execution_count": 2,
   "id": "1f4dd80378e7658b",
   "metadata": {
    "ExecuteTime": {
     "end_time": "2025-10-30T14:01:02.879344Z",
     "start_time": "2025-10-30T14:01:02.875784Z"
    }
   },
   "outputs": [
    {
     "name": "stdout",
     "output_type": "stream",
     "text": [
      "tensor([[1, 2],\n",
      "        [3, 4]])\n"
     ]
    }
   ],
   "source": [
    "data = [[1, 2], [3, 4]]\n",
    "x_data = torch.tensor(data)\n",
    "print(x_data)"
   ]
  },
  {
   "cell_type": "code",
   "execution_count": 3,
   "id": "de8a49c563ec306e",
   "metadata": {
    "ExecuteTime": {
     "end_time": "2025-10-30T14:01:02.928461Z",
     "start_time": "2025-10-30T14:01:02.925165Z"
    }
   },
   "outputs": [
    {
     "name": "stdout",
     "output_type": "stream",
     "text": [
      "tensor([[1, 2],\n",
      "        [3, 4]])\n"
     ]
    }
   ],
   "source": [
    "np_array = np.array(data)\n",
    "x_np = torch.from_numpy(np_array)\n",
    "print(x_np)"
   ]
  },
  {
   "cell_type": "code",
   "execution_count": 4,
   "id": "de2094dad95bceb7",
   "metadata": {
    "ExecuteTime": {
     "end_time": "2025-10-30T14:01:02.977102Z",
     "start_time": "2025-10-30T14:01:02.972679Z"
    }
   },
   "outputs": [
    {
     "name": "stdout",
     "output_type": "stream",
     "text": [
      "Ones Tensor: \n",
      " tensor([[1, 1],\n",
      "        [1, 1]])\n",
      "\n",
      "Random Tensor: \n",
      " tensor([[0.6648, 0.5579],\n",
      "        [0.7026, 0.1789]])\n"
     ]
    }
   ],
   "source": [
    "x_ones = torch.ones_like(x_data)  # retains the properties of x_data\n",
    "print(f\"Ones Tensor: \\n {x_ones}\")\n",
    "\n",
    "x_rand = torch.rand_like(x_data, dtype=torch.float)  # overrides the datatype of x_data\n",
    "print(f\"\\nRandom Tensor: \\n {x_rand}\")"
   ]
  },
  {
   "cell_type": "code",
   "execution_count": 5,
   "id": "230e9b7b106cf500",
   "metadata": {
    "ExecuteTime": {
     "end_time": "2025-10-30T14:01:03.026226Z",
     "start_time": "2025-10-30T14:01:03.021600Z"
    }
   },
   "outputs": [
    {
     "name": "stdout",
     "output_type": "stream",
     "text": [
      "Random Tensor: \n",
      " tensor([[0.5579, 0.4086, 0.4481],\n",
      "        [0.8122, 0.9803, 0.8580]]) \n",
      "\n",
      "Ones Tensor: \n",
      " tensor([[1., 1., 1.],\n",
      "        [1., 1., 1.]]) \n",
      "\n",
      "Zeros Tensor: \n",
      " tensor([[0., 0., 0.],\n",
      "        [0., 0., 0.]])\n"
     ]
    }
   ],
   "source": [
    "shape = (2, 3,)\n",
    "rand_tensor = torch.rand(shape)\n",
    "ones_tensor = torch.ones(shape)\n",
    "zeros_tensor = torch.zeros(shape)\n",
    "\n",
    "print(f\"Random Tensor: \\n {rand_tensor} \\n\")\n",
    "print(f\"Ones Tensor: \\n {ones_tensor} \\n\")\n",
    "print(f\"Zeros Tensor: \\n {zeros_tensor}\")"
   ]
  },
  {
   "cell_type": "code",
   "execution_count": 6,
   "id": "493b57421f75e034",
   "metadata": {
    "ExecuteTime": {
     "end_time": "2025-10-30T14:01:03.074358Z",
     "start_time": "2025-10-30T14:01:03.070798Z"
    }
   },
   "outputs": [
    {
     "name": "stdout",
     "output_type": "stream",
     "text": [
      "tensor([[0.5897, 0.3778, 0.5297, 0.0513],\n",
      "        [0.8316, 0.0781, 0.0156, 0.0608],\n",
      "        [0.0208, 0.5368, 0.3880, 0.9420]])\n",
      "Shape of tensor: torch.Size([3, 4])\n",
      "Datatype of tensor: torch.float32\n",
      "Device tensor is stored on: cpu\n"
     ]
    }
   ],
   "source": [
    "tensor = torch.rand(3, 4)\n",
    "\n",
    "print(tensor)\n",
    "print(f\"Shape of tensor: {tensor.shape}\")\n",
    "print(f\"Datatype of tensor: {tensor.dtype}\")\n",
    "print(f\"Device tensor is stored on: {tensor.device}\")"
   ]
  },
  {
   "cell_type": "markdown",
   "id": "673e9b10d4c29256",
   "metadata": {},
   "source": [
    "# Các phép toán trên Tensor"
   ]
  },
  {
   "cell_type": "code",
   "execution_count": 7,
   "id": "5c13211c1ecebfb5",
   "metadata": {
    "ExecuteTime": {
     "end_time": "2025-10-30T14:01:03.122208Z",
     "start_time": "2025-10-30T14:01:03.119411Z"
    }
   },
   "outputs": [
    {
     "name": "stdout",
     "output_type": "stream",
     "text": [
      "tensor([[1, 2],\n",
      "        [3, 4]])\n",
      "torch.int64\n",
      "torch.Size([2, 2])\n",
      "cpu\n"
     ]
    }
   ],
   "source": [
    "print(x_data)\n",
    "print(x_data.dtype)\n",
    "print(x_data.shape)\n",
    "print(x_data.device)"
   ]
  },
  {
   "cell_type": "code",
   "execution_count": 8,
   "id": "bbff895f8cbf15b0",
   "metadata": {
    "ExecuteTime": {
     "end_time": "2025-10-30T14:01:03.170323Z",
     "start_time": "2025-10-30T14:01:03.167134Z"
    }
   },
   "outputs": [
    {
     "name": "stdout",
     "output_type": "stream",
     "text": [
      "tensor([[2, 4],\n",
      "        [6, 8]])\n"
     ]
    }
   ],
   "source": [
    "tensor_sum = x_data + x_data\n",
    "print(tensor_sum)"
   ]
  },
  {
   "cell_type": "code",
   "execution_count": 9,
   "id": "1f9794fdcbbdadc3",
   "metadata": {
    "ExecuteTime": {
     "end_time": "2025-10-30T14:01:03.218417Z",
     "start_time": "2025-10-30T14:01:03.215081Z"
    }
   },
   "outputs": [
    {
     "name": "stdout",
     "output_type": "stream",
     "text": [
      "tensor([[ 5, 10],\n",
      "        [15, 20]])\n"
     ]
    }
   ],
   "source": [
    "tensor_prod = 5 * x_data\n",
    "print(tensor_prod)"
   ]
  },
  {
   "cell_type": "code",
   "execution_count": 10,
   "id": "a3c9b75058eeffd8",
   "metadata": {
    "ExecuteTime": {
     "end_time": "2025-10-30T14:01:03.267374Z",
     "start_time": "2025-10-30T14:01:03.263069Z"
    }
   },
   "outputs": [
    {
     "name": "stdout",
     "output_type": "stream",
     "text": [
      "Tensor:\n",
      " tensor([[1, 2],\n",
      "        [3, 4]])\n",
      "Transpose tensor:\n",
      " tensor([[1, 3],\n",
      "        [2, 4]])\n",
      "Result:\n",
      " tensor([[ 5, 11],\n",
      "        [11, 25]])\n"
     ]
    }
   ],
   "source": [
    "print(f\"Tensor:\\n {x_data}\")\n",
    "print(f\"Transpose tensor:\\n {x_data.T}\")\n",
    "\n",
    "tensor_prod_trans = x_data @ x_data.T\n",
    "print(f\"Result:\\n {tensor_prod_trans}\")"
   ]
  },
  {
   "cell_type": "markdown",
   "id": "c7b8176454d6b260",
   "metadata": {},
   "source": [
    "# Indexing and Slicing"
   ]
  },
  {
   "cell_type": "code",
   "execution_count": 11,
   "id": "d6f356c69eee549a",
   "metadata": {
    "ExecuteTime": {
     "end_time": "2025-10-30T14:01:03.314911Z",
     "start_time": "2025-10-30T14:01:03.310940Z"
    }
   },
   "outputs": [
    {
     "name": "stdout",
     "output_type": "stream",
     "text": [
      "First row: tensor([1, 2])\n",
      "Second column: tensor([2, 4])\n",
      "Value: 4\n"
     ]
    }
   ],
   "source": [
    "first_row = x_data[0]\n",
    "print(f\"First row: {first_row}\")\n",
    "second_col = x_data[:, 1]\n",
    "print(f\"Second column: {second_col}\")\n",
    "value = x_data[1, 1]\n",
    "print(f\"Value: {value}\")"
   ]
  },
  {
   "cell_type": "markdown",
   "id": "56a1415cc6bc8a1f",
   "metadata": {},
   "source": [
    "# Thay đổi hình dạng Tensor"
   ]
  },
  {
   "cell_type": "code",
   "execution_count": 12,
   "id": "4a1afa402b172d2",
   "metadata": {
    "ExecuteTime": {
     "end_time": "2025-10-30T14:01:03.362299Z",
     "start_time": "2025-10-30T14:01:03.358577Z"
    }
   },
   "outputs": [
    {
     "name": "stdout",
     "output_type": "stream",
     "text": [
      "Random tensor:\n",
      " tensor([[0.8447, 0.1229, 0.8633, 0.4499],\n",
      "        [0.3957, 0.0698, 0.7351, 0.3384],\n",
      "        [0.2114, 0.1308, 0.2190, 0.2202],\n",
      "        [0.2657, 0.0906, 0.9552, 0.6718]])\n",
      "Reshape tensor:\n",
      " tensor([[0.8447],\n",
      "        [0.1229],\n",
      "        [0.8633],\n",
      "        [0.4499],\n",
      "        [0.3957],\n",
      "        [0.0698],\n",
      "        [0.7351],\n",
      "        [0.3384],\n",
      "        [0.2114],\n",
      "        [0.1308],\n",
      "        [0.2190],\n",
      "        [0.2202],\n",
      "        [0.2657],\n",
      "        [0.0906],\n",
      "        [0.9552],\n",
      "        [0.6718]])\n"
     ]
    }
   ],
   "source": [
    "X = torch.rand(4, 4)\n",
    "print(f\"Random tensor:\\n {X}\")\n",
    "Y = X.reshape((16, 1))\n",
    "print(f\"Reshape tensor:\\n {Y}\")"
   ]
  },
  {
   "cell_type": "markdown",
   "id": "ba8def5ff69e40a1",
   "metadata": {},
   "source": [
    "# Tự động tính Đạo hàm với `autograd`"
   ]
  },
  {
   "cell_type": "code",
   "execution_count": 13,
   "id": "aa4a9f083aa74834",
   "metadata": {
    "ExecuteTime": {
     "end_time": "2025-10-30T14:01:03.526872Z",
     "start_time": "2025-10-30T14:01:03.406298Z"
    }
   },
   "outputs": [
    {
     "name": "stdout",
     "output_type": "stream",
     "text": [
      "x: tensor([1.], requires_grad=True)\n",
      "y: tensor([3.], grad_fn=<AddBackward0>)\n",
      "y.grad_fn: <AddBackward0 object at 0x767c66a65240>\n",
      "Đạo hàm của z theo x: tensor([18.])\n"
     ]
    }
   ],
   "source": [
    "x = torch.ones(1, requires_grad=True)\n",
    "print(f\"x: {x}\")\n",
    "\n",
    "y = x + 2\n",
    "print(f\"y: {y}\")\n",
    "print(f\"y.grad_fn: {y.grad_fn}\")\n",
    "\n",
    "z = 3 * y * y\n",
    "z.backward()\n",
    "print(f\"Đạo hàm của z theo x: {x.grad}\")"
   ]
  },
  {
   "cell_type": "code",
   "execution_count": 14,
   "id": "cd028903a0f78a51",
   "metadata": {
    "ExecuteTime": {
     "end_time": "2025-10-30T14:01:03.534067Z",
     "start_time": "2025-10-30T14:01:03.530893Z"
    }
   },
   "outputs": [],
   "source": [
    "input = torch.ones(5)  # input tensor\n",
    "label = torch.zeros(3)  # expected output\n",
    "w = torch.randn(5, 3, requires_grad=True)\n",
    "b = torch.randn(3, requires_grad=True)\n",
    "pred = torch.matmul(input, w) + b\n",
    "loss = torch.nn.functional.binary_cross_entropy_with_logits(pred, label)"
   ]
  },
  {
   "cell_type": "code",
   "execution_count": 15,
   "id": "7ba99f50c834c780",
   "metadata": {
    "ExecuteTime": {
     "end_time": "2025-10-30T14:01:03.583771Z",
     "start_time": "2025-10-30T14:01:03.578300Z"
    }
   },
   "outputs": [
    {
     "name": "stdout",
     "output_type": "stream",
     "text": [
      "Input:\n",
      " tensor([1., 1., 1., 1., 1.])\n",
      "Label:\n",
      " tensor([0., 0., 0.])\n",
      "Parmeters:\n",
      " tensor([[ 0.6818, -0.0486, -0.0656],\n",
      "        [ 0.1878,  0.6482, -0.2133],\n",
      "        [ 2.2628,  0.8076, -2.1083],\n",
      "        [-0.8591, -1.2702,  0.8219],\n",
      "        [-1.6090, -0.6533,  0.4093]], requires_grad=True)\n",
      "Bias:\n",
      " tensor([-0.7953,  1.5754,  0.6099], requires_grad=True)\n",
      "Prediction:\n",
      " tensor([-0.1310,  1.0592, -0.5460], grad_fn=<AddBackward0>)\n",
      "Loss: 0.8145386576652527\n"
     ]
    }
   ],
   "source": [
    "print(f\"Input:\\n {input}\")\n",
    "print(f\"Label:\\n {label}\")\n",
    "print(f\"Parmeters:\\n {w}\")\n",
    "print(f\"Bias:\\n {b}\")\n",
    "print(f\"Prediction:\\n {pred}\")\n",
    "print(f\"Loss: {loss}\")"
   ]
  },
  {
   "cell_type": "code",
   "execution_count": 16,
   "id": "5b79431421160096",
   "metadata": {
    "ExecuteTime": {
     "end_time": "2025-10-30T14:01:03.633131Z",
     "start_time": "2025-10-30T14:01:03.626887Z"
    }
   },
   "outputs": [
    {
     "name": "stdout",
     "output_type": "stream",
     "text": [
      "Gradient function for z = <MulBackward0 object at 0x767b034b3d30>\n",
      "Gradient function for loss = <BinaryCrossEntropyWithLogitsBackward0 object at 0x767b034b36d0>\n"
     ]
    }
   ],
   "source": [
    "print(f\"Gradient function for z = {z.grad_fn}\")\n",
    "print(f\"Gradient function for loss = {loss.grad_fn}\")"
   ]
  },
  {
   "cell_type": "code",
   "execution_count": 17,
   "id": "2cd84b507e07bd5",
   "metadata": {
    "ExecuteTime": {
     "end_time": "2025-10-30T14:01:03.684054Z",
     "start_time": "2025-10-30T14:01:03.680012Z"
    }
   },
   "outputs": [
    {
     "name": "stdout",
     "output_type": "stream",
     "text": [
      "tensor([[0.1558, 0.2475, 0.1223],\n",
      "        [0.1558, 0.2475, 0.1223],\n",
      "        [0.1558, 0.2475, 0.1223],\n",
      "        [0.1558, 0.2475, 0.1223],\n",
      "        [0.1558, 0.2475, 0.1223]])\n",
      "tensor([0.1558, 0.2475, 0.1223])\n"
     ]
    }
   ],
   "source": [
    "loss.backward()\n",
    "print(w.grad)\n",
    "print(b.grad)"
   ]
  },
  {
   "cell_type": "markdown",
   "id": "ac830ab891d429e7",
   "metadata": {},
   "source": [
    "# Xây dựng Mô hình đầu tiên với `torch.nn`"
   ]
  },
  {
   "cell_type": "code",
   "execution_count": 18,
   "id": "b6a7dc50bb98fcae",
   "metadata": {
    "ExecuteTime": {
     "end_time": "2025-10-30T14:01:03.733358Z",
     "start_time": "2025-10-30T14:01:03.726540Z"
    }
   },
   "outputs": [
    {
     "name": "stdout",
     "output_type": "stream",
     "text": [
      "Input tensor:\n",
      " tensor([[ 2.2980,  1.1567, -0.2147,  1.0374, -0.7035],\n",
      "        [-0.0819,  0.0683,  0.6757,  0.8377, -0.4310],\n",
      "        [-0.1782,  0.1071, -1.3826,  1.2273, -1.3974]])\n",
      "Input tensor shape: torch.Size([3, 5])\n",
      "\n",
      "Linear layer: Linear(in_features=5, out_features=2, bias=True)\n",
      "Linear layer weight: Parameter containing:\n",
      "tensor([[-0.0602,  0.3871, -0.1629,  0.3326,  0.2971],\n",
      "        [-0.0045,  0.3506, -0.4121, -0.2241, -0.0289]], requires_grad=True)\n",
      "Linear layer bias: Parameter containing:\n",
      "tensor([0.1200, 0.2289], requires_grad=True)\n",
      "\n",
      "Output tensor:\n",
      " tensor([[ 0.6005,  0.5005],\n",
      "        [ 0.1919, -0.2005],\n",
      "        [ 0.3906,  0.6024]], grad_fn=<AddmmBackward0>)\n"
     ]
    }
   ],
   "source": [
    "linear_layer = nn.Linear(in_features=5, out_features=2)\n",
    "input_tensor = torch.randn(3, 5)\n",
    "output = linear_layer(input_tensor)\n",
    "\n",
    "print(f\"Input tensor:\\n {input_tensor}\")\n",
    "print(f\"Input tensor shape: {input_tensor.shape}\")\n",
    "\n",
    "print(f\"\\nLinear layer: {linear_layer}\")\n",
    "print(f\"Linear layer weight: {linear_layer.weight}\")\n",
    "print(f\"Linear layer bias: {linear_layer.bias}\")\n",
    "\n",
    "print(f\"\\nOutput tensor:\\n {output}\")"
   ]
  },
  {
   "cell_type": "code",
   "execution_count": 19,
   "id": "1748edfa812efe1e",
   "metadata": {
    "ExecuteTime": {
     "end_time": "2025-10-30T14:01:03.780439Z",
     "start_time": "2025-10-30T14:01:03.774780Z"
    }
   },
   "outputs": [
    {
     "name": "stdout",
     "output_type": "stream",
     "text": [
      "Input indices:\n",
      " tensor([1, 5, 0, 8])\n",
      "Input tensor shape: torch.Size([4])\n",
      "\n",
      "Embedding layer: Embedding(10, 3)\n",
      "Linear layer weight: Parameter containing:\n",
      "tensor([[-1.2494e-01,  5.2760e-01, -1.6417e-01],\n",
      "        [-6.0314e-01, -5.1164e-01,  2.8543e+00],\n",
      "        [-1.5458e+00, -4.7822e-01,  1.4583e+00],\n",
      "        [ 1.1928e+00, -3.8154e-01, -8.0988e-01],\n",
      "        [-2.3418e-01, -7.5094e-02,  3.6692e-01],\n",
      "        [-9.6148e-02,  7.3330e-01,  3.7602e-01],\n",
      "        [-3.4586e-01,  1.6890e-03,  2.6733e-01],\n",
      "        [-2.6935e-01,  3.9325e-01, -5.6437e-01],\n",
      "        [ 1.4046e-01, -8.0245e-01, -1.8078e+00],\n",
      "        [ 5.0451e-01, -3.5162e-01, -4.0137e-01]], requires_grad=True)\n",
      "\n",
      "Output embedding:\n",
      " tensor([[-0.6031, -0.5116,  2.8543],\n",
      "        [-0.0961,  0.7333,  0.3760],\n",
      "        [-0.1249,  0.5276, -0.1642],\n",
      "        [ 0.1405, -0.8024, -1.8078]], grad_fn=<EmbeddingBackward0>)\n"
     ]
    }
   ],
   "source": [
    "embedding_layer = nn.Embedding(num_embeddings=10, embedding_dim=3)\n",
    "input_indices = torch.LongTensor([1, 5, 0, 8])\n",
    "embeddings = embedding_layer(input_indices)\n",
    "\n",
    "print(f\"Input indices:\\n {input_indices}\")\n",
    "print(f\"Input tensor shape: {input_indices.shape}\")\n",
    "\n",
    "print(f\"\\nEmbedding layer: {embedding_layer}\")\n",
    "print(f\"Linear layer weight: {embedding_layer.weight}\")\n",
    "\n",
    "print(f\"\\nOutput embedding:\\n {embeddings}\")"
   ]
  },
  {
   "cell_type": "code",
   "execution_count": 20,
   "id": "62421ea5a94d566c",
   "metadata": {
    "ExecuteTime": {
     "end_time": "2025-10-30T14:01:03.830870Z",
     "start_time": "2025-10-30T14:01:03.821883Z"
    }
   },
   "outputs": [
    {
     "name": "stdout",
     "output_type": "stream",
     "text": [
      "Model architecture:\n",
      " MyEmbeddingModel(\n",
      "  (embedding): Embedding(100, 16)\n",
      "  (linear): Linear(in_features=16, out_features=8, bias=True)\n",
      "  (relu): ReLU()\n",
      "  (output): Linear(in_features=8, out_features=2, bias=True)\n",
      ")\n",
      "\n",
      "Embedding layer weight:\n",
      " Parameter containing:\n",
      "tensor([[-0.7103,  0.3912,  1.9932,  ..., -0.3411,  0.1928, -1.3143],\n",
      "        [-0.0632, -1.3174,  0.1539,  ..., -1.0970,  1.1928,  0.2997],\n",
      "        [-0.3892, -1.4749,  0.7311,  ...,  0.7675,  0.7021, -1.2288],\n",
      "        ...,\n",
      "        [-1.2847, -0.4262,  0.7513,  ..., -0.9103, -0.1506,  2.9844],\n",
      "        [ 0.4316,  1.4080, -1.4460,  ..., -0.3130,  0.3060,  0.2113],\n",
      "        [ 0.1727, -0.1096,  0.6588,  ..., -1.1831,  0.2935, -0.2848]],\n",
      "       requires_grad=True)\n",
      "\n",
      " Linear layer weight:\n",
      " Parameter containing:\n",
      "tensor([[-0.2266, -0.0524, -0.0011, -0.2028, -0.1767,  0.1688,  0.1590, -0.0459,\n",
      "         -0.1168, -0.0198, -0.1549, -0.1896,  0.0008, -0.0811, -0.0895,  0.2216],\n",
      "        [ 0.1516, -0.1180,  0.0872,  0.2023,  0.0028,  0.1056, -0.0439,  0.2323,\n",
      "          0.1375,  0.2301, -0.0911, -0.1758, -0.1619, -0.0477, -0.0784,  0.1411],\n",
      "        [ 0.0303,  0.0804, -0.1849, -0.0958, -0.1392, -0.1689,  0.2432, -0.1753,\n",
      "          0.1818, -0.2027,  0.2489,  0.0248, -0.1352,  0.2269, -0.1996, -0.0616],\n",
      "        [-0.0123,  0.2293, -0.1428, -0.1957,  0.0397, -0.0152,  0.1490,  0.0328,\n",
      "          0.0378, -0.0943,  0.1400,  0.1516, -0.2465, -0.1560, -0.0556, -0.0065],\n",
      "        [ 0.1421, -0.1659,  0.1396,  0.0222, -0.1673,  0.0663,  0.1262, -0.0305,\n",
      "         -0.2097, -0.1503,  0.2254,  0.2380, -0.2075, -0.1736, -0.1745, -0.1787],\n",
      "        [ 0.1137,  0.1479, -0.0014,  0.1478, -0.2340,  0.0734,  0.1352,  0.0151,\n",
      "         -0.1558,  0.2476,  0.1088,  0.0802,  0.1692, -0.0191, -0.0959,  0.1595],\n",
      "        [-0.0913, -0.0097, -0.1916,  0.2121,  0.0194, -0.0724,  0.1292, -0.2324,\n",
      "         -0.2091,  0.0608, -0.0164, -0.2228, -0.2173,  0.0385, -0.1913, -0.1176],\n",
      "        [ 0.0572, -0.1596,  0.0783,  0.1750,  0.0363, -0.1617, -0.0321,  0.2384,\n",
      "          0.0920, -0.0633, -0.2470, -0.2253,  0.0955, -0.2449,  0.1873, -0.2496]],\n",
      "       requires_grad=True)\n",
      "\n",
      " Linear layer bias:\n",
      " Parameter containing:\n",
      "tensor([-0.1435, -0.1521, -0.1069,  0.0534, -0.1790,  0.1159, -0.1556,  0.2003],\n",
      "       requires_grad=True)\n",
      "\n",
      "Output layer weight:\n",
      " Parameter containing:\n",
      "tensor([[ 0.3244, -0.2964,  0.1487, -0.2058, -0.0799,  0.1961,  0.3346,  0.0075],\n",
      "        [ 0.1294, -0.2880, -0.1862, -0.2737, -0.0430,  0.0658, -0.1656,  0.0174]],\n",
      "       requires_grad=True)\n",
      "\n",
      "Output layer bias:\n",
      " Parameter containing:\n",
      "tensor([0.0484, 0.2570], requires_grad=True)\n"
     ]
    }
   ],
   "source": [
    "class MyEmbeddingModel(nn.Module):\n",
    "    def __init__(self, vocab_size, embedding_dim, hidden_dim, output_dim):\n",
    "        super(MyEmbeddingModel, self).__init__()\n",
    "        self.embedding = nn.Embedding(num_embeddings=vocab_size, embedding_dim=embedding_dim)\n",
    "        self.linear = nn.Linear(in_features=embedding_dim, out_features=hidden_dim)\n",
    "        self.relu = nn.ReLU()\n",
    "        self.output = nn.Linear(in_features=hidden_dim, out_features=output_dim)\n",
    "\n",
    "    def forward(self, x):\n",
    "        embedded = self.embedding(x)\n",
    "        hiddens = self.relu(self.linear(embedded))\n",
    "        output = self.output(hiddens)\n",
    "        return output\n",
    "\n",
    "\n",
    "model = MyEmbeddingModel(vocab_size=100, embedding_dim=16, hidden_dim=8, output_dim=2)\n",
    "input_data = torch.LongTensor([[1, 2, 5, 9]])  # một câu gồm 4 từ\n",
    "output_data = model(input_data)\n",
    "\n",
    "print(f\"Model architecture:\\n {model}\")\n",
    "print(f\"\\nEmbedding layer weight:\\n {model.embedding.weight}\")\n",
    "print(f\"\\n Linear layer weight:\\n {model.linear.weight}\")\n",
    "print(f\"\\n Linear layer bias:\\n {model.linear.bias}\")\n",
    "print(f\"\\nOutput layer weight:\\n {model.output.weight}\")\n",
    "print(f\"\\nOutput layer bias:\\n {model.output.bias}\")"
   ]
  },
  {
   "cell_type": "code",
   "execution_count": 21,
   "id": "34f160a2d2814c2",
   "metadata": {
    "ExecuteTime": {
     "end_time": "2025-10-30T14:01:03.903300Z",
     "start_time": "2025-10-30T14:01:03.899848Z"
    }
   },
   "outputs": [
    {
     "name": "stdout",
     "output_type": "stream",
     "text": [
      "\n",
      "Input data: tensor([[1, 2, 5, 9]])\n",
      "Input data shape: torch.Size([1, 4])\n",
      "Output data:\n",
      " tensor([[[-0.1417,  0.0479],\n",
      "         [ 0.0553,  0.2788],\n",
      "         [ 0.0731,  0.1633],\n",
      "         [ 0.4935, -0.0290]]], grad_fn=<ViewBackward0>)\n",
      "Model output shape: torch.Size([1, 4, 2])\n"
     ]
    }
   ],
   "source": [
    "print(f\"\\nInput data: {input_data}\")\n",
    "print(f\"Input data shape: {input_data.shape}\")\n",
    "print(f\"Output data:\\n {output_data}\")\n",
    "print(f\"Model output shape: {output_data.shape}\")"
   ]
  }
 ],
 "metadata": {
  "kernelspec": {
   "display_name": "Python 3 (ipykernel)",
   "language": "python",
   "name": "python3"
  },
  "language_info": {
   "codemirror_mode": {
    "name": "ipython",
    "version": 3
   },
   "file_extension": ".py",
   "mimetype": "text/x-python",
   "name": "python",
   "nbconvert_exporter": "python",
   "pygments_lexer": "ipython3",
   "version": "3.12.3"
  }
 },
 "nbformat": 4,
 "nbformat_minor": 5
}
